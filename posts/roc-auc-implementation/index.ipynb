{
 "cells": [
  {
   "cell_type": "raw",
   "id": "3cc50e75-8316-4287-b910-699d6e04bf11",
   "metadata": {
    "vscode": {
     "languageId": "raw"
    }
   },
   "source": [
    "---\n",
    "title: \"Efficient Implementation of ROC AUC Score\"\n",
    "author: \"Madiyar Aitbayev\"\n",
    "date: \"2025-02-3\"\n",
    "categories: [loss, code]\n",
    "image: \"images/trapezoid.jpg\"\n",
    "draft: true\n",
    "draft-mode: unlinked\n",
    "toc: true\n",
    "---"
   ]
  },
  {
   "cell_type": "markdown",
   "id": "3de99ca5-b901-4e0f-b9c4-19c6b2f24be5",
   "metadata": {},
   "source": [
    "# Efficient Implementation of ROC AUC Score"
   ]
  },
  {
   "cell_type": "markdown",
   "id": "5cdfacba-98d1-4d7a-afbd-49f087d3857b",
   "metadata": {},
   "source": [
    "## Introduction\n",
    "\n",
    "This post is a continuation of the [ROC and AUC Interpretation](https://maitbayev.github.io/posts/roc-auc). \n",
    "Please make sure that you understand that post before reading this post. \n",
    "\n",
    "In this post, we will implement an efficient ROC AUC Score in Python with $O(n\\log n)$ runtime complexity.\n",
    "\n",
    "[Subscribe](https://maitbayev.substack.com/subscribe) to get a notification about future posts. "
   ]
  },
  {
   "cell_type": "code",
   "execution_count": 180,
   "id": "efb4296c-f16a-4bbb-a08e-9a30cb0bf997",
   "metadata": {},
   "outputs": [],
   "source": [
    "import numpy as np\n",
    "\n",
    "np.random.seed(0)\n",
    "n = 100\n",
    "target = np.random.randint(0, 2, n)\n",
    "predicted = np.random.rand(n)"
   ]
  },
  {
   "cell_type": "code",
   "execution_count": 181,
   "id": "03e87115-b626-451c-a9b3-ab7e57330b61",
   "metadata": {},
   "outputs": [
    {
     "data": {
      "text/plain": [
       "np.float64(0.4277597402597403)"
      ]
     },
     "execution_count": 181,
     "metadata": {},
     "output_type": "execute_result"
    }
   ],
   "source": [
    "import sklearn\n",
    "sklearn.metrics.roc_auc_score(target, predicted)"
   ]
  },
  {
   "cell_type": "markdown",
   "id": "a813eb05-704c-4433-8a3e-369207c34a96",
   "metadata": {},
   "source": [
    "### Trapezoid Area"
   ]
  },
  {
   "cell_type": "markdown",
   "id": "52b8ae36",
   "metadata": {},
   "source": [
    "![Area of trapezoid](images/trapezoid.jpg)"
   ]
  },
  {
   "cell_type": "markdown",
   "id": "433491b8-d53c-4846-ad53-35b0948be799",
   "metadata": {},
   "source": [
    "We want to find the area of the trapezoid defined by the $(x_0, y_0)$ and $(x_1, y_1)$ points as shown in the picture above. We can add the area of the the rectangle and the right triangle, which is:\n",
    "\n",
    "$$\n",
    "\\begin{align}\n",
    "\\text{Area}&=(x_1-x_0) \\times y0+\\frac{1}{2}(x_1-x_0) \\times (y_1-y_0)\\\\\n",
    "&= \\frac{1}{2}(x_1-x_0) \\times (2y_0+y_1 - y_0)\\\\\n",
    "&= \\frac{1}{2}(x_1-x_0) \\times (y_0 + y_1)\\\\\n",
    "\\end{align}\n",
    "$$\n",
    "\n",
    "Let's implement the formula in Python:"
   ]
  },
  {
   "cell_type": "code",
   "execution_count": 187,
   "id": "b05fd4da-7772-4c00-bc16-e4daa55e44b8",
   "metadata": {},
   "outputs": [],
   "source": [
    "def trapezoid_area(p0, p1):\n",
    "    return (p1[0] - p0[0]) * (p0[1] + p1[1]) / 2.0"
   ]
  },
  {
   "cell_type": "code",
   "execution_count": 188,
   "id": "1ca6b2e3-9622-4bf4-8b9d-8f0e3e677496",
   "metadata": {},
   "outputs": [],
   "source": [
    "def fast_roc_auc_score(target, predicted):\n",
    "    n = target.shape[0]\n",
    "    num_positive = np.sum(target == 1)\n",
    "    num_negative = n - num_positive \n",
    "    \n",
    "    order = np.argsort(predicted)[::-1]\n",
    "    last = [0, 0]\n",
    "    num_true_positive = 0\n",
    "    num_false_positive = 0\n",
    "    score = 0\n",
    "    for index in range(n):\n",
    "        if index == 0 or predicted[order[index]] != predicted[order[index - 1]]:\n",
    "            true_positive_rate = num_true_positive / num_positive\n",
    "            false_positive_rate = num_false_positive / num_negative\n",
    "            cur = [false_positive_rate, true_positive_rate]\n",
    "            \n",
    "            score += trapezoid_area(last, cur)\n",
    "            last = cur\n",
    "        \n",
    "        if target[order[index]] == 1:\n",
    "            num_true_positive += 1\n",
    "        else:\n",
    "            num_false_positive += 1\n",
    "    score += trapezoid_area(last, [1, 1])\n",
    "    return score "
   ]
  },
  {
   "cell_type": "code",
   "execution_count": 189,
   "id": "361f6637-19a5-467b-96bb-6b4ae06f04ce",
   "metadata": {},
   "outputs": [
    {
     "data": {
      "text/plain": [
       "np.float64(0.4277597402597403)"
      ]
     },
     "execution_count": 189,
     "metadata": {},
     "output_type": "execute_result"
    }
   ],
   "source": [
    "fast_roc_auc_score(target, predicted)"
   ]
  }
 ],
 "metadata": {
  "kernelspec": {
   "display_name": "Python 3 (ipykernel)",
   "language": "python",
   "name": "python3"
  },
  "language_info": {
   "codemirror_mode": {
    "name": "ipython",
    "version": 3
   },
   "file_extension": ".py",
   "mimetype": "text/x-python",
   "name": "python",
   "nbconvert_exporter": "python",
   "pygments_lexer": "ipython3",
   "version": "3.12.4"
  }
 },
 "nbformat": 4,
 "nbformat_minor": 5
}
