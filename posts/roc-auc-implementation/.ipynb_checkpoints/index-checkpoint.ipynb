{
 "cells": [
  {
   "cell_type": "raw",
   "id": "3cc50e75-8316-4287-b910-699d6e04bf11",
   "metadata": {
    "vscode": {
     "languageId": "raw"
    }
   },
   "source": [
    "---\n",
    "title: \"Efficient Implementation of ROC AUC Score\"\n",
    "author: \"Madiyar Aitbayev\"\n",
    "date: \"2025-02-3\"\n",
    "categories: [loss, code]\n",
    "image: \"images/trapezoid.jpg\"\n",
    "draft: true\n",
    "draft-mode: unlinked\n",
    "toc: true\n",
    "---"
   ]
  },
  {
   "cell_type": "markdown",
   "id": "3de99ca5-b901-4e0f-b9c4-19c6b2f24be5",
   "metadata": {},
   "source": [
    "# Efficient Implementation of ROC AUC Score"
   ]
  },
  {
   "cell_type": "markdown",
   "id": "5cdfacba-98d1-4d7a-afbd-49f087d3857b",
   "metadata": {},
   "source": [
    "## Introduction\n",
    "\n",
    "This post is a continuation of the [ROC and AUC Interpretation](https://maitbayev.github.io/posts/roc-auc). \n",
    "Please make sure that you understand that post before reading this one. \n",
    "\n",
    "In this post, we will implement an efficient ROC AUC Score in Python with $O(n\\log n)$ runtime complexity.\n",
    "\n",
    "[Subscribe](https://maitbayev.substack.com/subscribe) to get a notification about future posts. "
   ]
  },
  {
   "cell_type": "markdown",
   "id": "89a6ea11-7840-4b2e-bd5b-26fad4d46e4c",
   "metadata": {},
   "source": [
    "## Explanation"
   ]
  },
  {
   "cell_type": "code",
   "execution_count": 1,
   "id": "48f226b6-da7f-4866-8666-eff281f5e065",
   "metadata": {},
   "outputs": [],
   "source": [
    "#| echo: false\n",
    "#| output: false\n",
    "\n",
    "import numpy as np\n",
    "import pandas as pd\n",
    "import plotly.graph_objects as go\n",
    "\n",
    "LIGHT_RED = \"#ff8886\"\n",
    "LIGHT_GREEN = \"lightgreen\"\n",
    "DARK_RED = \"#8b0000\"\n",
    "\n",
    "def make_dataframe(positives, negatives, threshold: float = 0):\n",
    "    positives = np.array(positives)\n",
    "    negatives = np.array(negatives)\n",
    "    df_positives = pd.DataFrame({\n",
    "        \"score\": positives,\n",
    "        \"target\": np.ones(len(positives)),\n",
    "        \"color\": np.full(len(positives), LIGHT_GREEN),\n",
    "        \"stroke_width\": (positives > threshold) * 3,\n",
    "        \"stroke_color\": np.full(len(positives), \"green\"),\n",
    "    })\n",
    "    df_negatives = pd.DataFrame({\n",
    "        \"score\": negatives,\n",
    "        \"target\": np.zeros(len(negatives)),\n",
    "        \"color\": np.full(len(negatives), LIGHT_RED),\n",
    "        \"stroke_width\": (negatives > threshold) * 3,\n",
    "        \"stroke_color\": np.full(len(negatives), DARK_RED),\n",
    "    })\n",
    "    df = pd.concat([df_positives, df_negatives])\n",
    "    df.sort_values(\"score\", ascending=False, inplace=True)\n",
    "    return df\n",
    "\n",
    "\n",
    "def figure_auc1d(positives, negatives, threshold: float = 0.5, reverse=True):\n",
    "    df = make_dataframe(positives, negatives, threshold)\n",
    "    return go.Figure(data=[\n",
    "        go.Scatter(\n",
    "            x=df[\"score\"],\n",
    "            y=np.full(len(df), 0.5),\n",
    "            mode=\"markers\",\n",
    "            marker=dict(\n",
    "                size=df[\"score\"] * 40,\n",
    "                color=df[\"color\"],\n",
    "                opacity=1,\n",
    "                line=dict(\n",
    "                    width=df[\"stroke_width\"],\n",
    "                    color=df[\"stroke_color\"]\n",
    "                ),\n",
    "            )\n",
    "        ),\n",
    "        go.Scatter(\n",
    "            x=[threshold, threshold],\n",
    "            y=[0, 1],\n",
    "            mode=\"lines\",\n",
    "            line=dict(\n",
    "                color=\"black\",\n",
    "                dash=\"dot\",\n",
    "            ),\n",
    "            visible=(0 <= threshold <= 1)\n",
    "        )\n",
    "    ], layout=go.Layout(\n",
    "        plot_bgcolor=\"#ffffff\",\n",
    "        height=100,\n",
    "        margin=dict(l=5, r=5, t=20, b=20),\n",
    "        xaxis=dict(\n",
    "            linecolor=\"#cccccc\",\n",
    "            autorange=\"reversed\" if reverse else True,\n",
    "            nticks=10,\n",
    "            range=[0, 1],\n",
    "        ),\n",
    "        yaxis=dict(visible=False),\n",
    "        legend=dict(visible=False)\n",
    "    ))"
   ]
  },
  {
   "cell_type": "markdown",
   "id": "1e06472d-c087-4a74-904b-a63f99d757db",
   "metadata": {},
   "source": [
    "Let's say we have:\n",
    "\n",
    "- A dataset with positive and negative items\n",
    "- An ML model that predicts a probability score from 0 to 1, representing the probability that the input belongs to the positive class.\n",
    "\n",
    "Similar to the previous post, we can visualize our dataset and their probability predictions in the same visualization as following:"
   ]
  },
  {
   "cell_type": "code",
   "execution_count": 8,
   "id": "c95e6c0e-4912-48af-9cfc-b09ba312491e",
   "metadata": {},
   "outputs": [
    {
     "data": {
      "text/html": [
       "<iframe\n",
       "    scrolling=\"no\"\n",
       "    width=\"100%\"\n",
       "    height=\"120\"\n",
       "    src=\"iframe_figures/figure_8.html\"\n",
       "    frameborder=\"0\"\n",
       "    allowfullscreen\n",
       "></iframe>\n"
      ]
     },
     "metadata": {},
     "output_type": "display_data"
    }
   ],
   "source": [
    "#| echo: false\n",
    "positives = [0.25, 0.35, 0.5, 0.6, 0.7, 0.8, 0.9, 1.0]\n",
    "negatives = [0.1, 0.15, 0.2, 0.3, 0.4, 0.6, 0.75, 0.95]\n",
    "\n",
    "figure_auc1d(positives, negatives, threshold=1.1, reverse=False).show(renderer=\"iframe\")"
   ]
  },
  {
   "cell_type": "markdown",
   "id": "4d6b13e0-39d2-4d09-a458-70920c2310ab",
   "metadata": {},
   "source": [
    "Positive items in the dataset are shown in green, and negative items are shown in red. The sizes of circles represent the predicted probability scores, with smaller circles representing scores close to 0 and larger circles representing scores close to 1.\n",
    "\n",
    "Then, choosing a threshold gives us different points on the ROC curve with x representing the false positive rate (fpr) an y representing the true positive rate (tpr). For example:"
   ]
  },
  {
   "cell_type": "code",
   "execution_count": 9,
   "id": "a9ee6bf5-052a-407b-aabb-472046b4667a",
   "metadata": {},
   "outputs": [
    {
     "data": {
      "text/html": [
       "<iframe\n",
       "    scrolling=\"no\"\n",
       "    width=\"100%\"\n",
       "    height=\"120\"\n",
       "    src=\"iframe_figures/figure_9.html\"\n",
       "    frameborder=\"0\"\n",
       "    allowfullscreen\n",
       "></iframe>\n"
      ]
     },
     "metadata": {},
     "output_type": "display_data"
    }
   ],
   "source": [
    "figure_auc1d(positives, negatives, threshold=0.5, reverse=False).show(renderer=\"iframe\")"
   ]
  },
  {
   "cell_type": "markdown",
   "id": "b7d07325-2dd8-42ec-b9fb-654b89707392",
   "metadata": {},
   "source": [
    "A threshold of value 0.5 gives us the point $(\\frac{3}{8}, \\frac{4}{7})$, whereas a threshold of value 0.4 gives us the point $(\\frac{3}{8}, \\frac{5}{7})$. Then, we need to find the sum of areas of all trapezoids defined by the mentioned adjacent points:\n",
    "\n",
    "![trapezoids](images/trapezoids.jpg)\n",
    "\n",
    "We will sum all 5 trapezoids shown above, which will be the ROC AUC score."
   ]
  },
  {
   "cell_type": "markdown",
   "id": "cc81292d-2e18-4c83-a8fd-e43001ca1108",
   "metadata": {},
   "source": [
    "### Explanation\n",
    "\n",
    "Let's setup our environment:"
   ]
  },
  {
   "cell_type": "code",
   "execution_count": null,
   "id": "223721f7-8d16-4ed0-91a7-7c73403b4648",
   "metadata": {},
   "outputs": [],
   "source": []
  },
  {
   "cell_type": "code",
   "execution_count": 3,
   "id": "efb4296c-f16a-4bbb-a08e-9a30cb0bf997",
   "metadata": {},
   "outputs": [],
   "source": [
    "import numpy as np\n",
    "\n",
    "np.random.seed(0)\n",
    "n = 100\n",
    "target = np.random.randint(0, 2, n)\n",
    "predicted = np.random.rand(n)"
   ]
  },
  {
   "cell_type": "code",
   "execution_count": null,
   "id": "013fba5e-0d1e-44cf-bbbb-3733f74596cf",
   "metadata": {},
   "outputs": [],
   "source": []
  },
  {
   "cell_type": "code",
   "execution_count": 4,
   "id": "03e87115-b626-451c-a9b3-ab7e57330b61",
   "metadata": {},
   "outputs": [
    {
     "data": {
      "text/plain": [
       "np.float64(0.4277597402597403)"
      ]
     },
     "execution_count": 4,
     "metadata": {},
     "output_type": "execute_result"
    }
   ],
   "source": [
    "import sklearn\n",
    "sklearn.metrics.roc_auc_score(target, predicted)"
   ]
  },
  {
   "cell_type": "markdown",
   "id": "a813eb05-704c-4433-8a3e-369207c34a96",
   "metadata": {},
   "source": [
    "### Trapezoid Area"
   ]
  },
  {
   "cell_type": "markdown",
   "id": "52b8ae36",
   "metadata": {},
   "source": [
    "![Area of trapezoid](images/trapezoid.jpg)"
   ]
  },
  {
   "cell_type": "markdown",
   "id": "433491b8-d53c-4846-ad53-35b0948be799",
   "metadata": {},
   "source": [
    "We want to find the area of the trapezoid defined by the $(x_0, y_0)$ and $(x_1, y_1)$ points as shown in the picture above. We can add the area of the the rectangle and the right triangle, which is:\n",
    "\n",
    "$$\n",
    "\\begin{align}\n",
    "\\text{Area}&=(x_1-x_0) \\times y0+\\frac{1}{2}(x_1-x_0) \\times (y_1-y_0)\\\\\n",
    "&= \\frac{1}{2}(x_1-x_0) \\times (2y_0+y_1 - y_0)\\\\\n",
    "&= \\frac{1}{2}(x_1-x_0) \\times (y_0 + y_1)\\\\\n",
    "\\end{align}\n",
    "$$\n",
    "\n",
    "Let's implement the formula in Python:"
   ]
  },
  {
   "cell_type": "code",
   "execution_count": 5,
   "id": "b05fd4da-7772-4c00-bc16-e4daa55e44b8",
   "metadata": {},
   "outputs": [],
   "source": [
    "def trapezoid_area(p0, p1):\n",
    "    return (p1[0] - p0[0]) * (p0[1] + p1[1]) / 2.0"
   ]
  },
  {
   "cell_type": "code",
   "execution_count": 6,
   "id": "c6a6c28a-ad71-41a8-9342-486144bff3f0",
   "metadata": {},
   "outputs": [],
   "source": [
    "def fast_roc_auc_score(target, predicted):\n",
    "    n = target.shape[0]\n",
    "    num_positive = np.sum(target == 1)\n",
    "    num_negative = n - num_positive \n",
    "    \n",
    "    order = np.argsort(predicted)[::-1]\n",
    "    last = [0, 0]\n",
    "    num_true_positive = 0\n",
    "    num_false_positive = 0\n",
    "    score = 0\n",
    "    for index in range(n):\n",
    "        # Make sure that the new threshold is unique\n",
    "        if index == 0 or predicted[order[index]] != predicted[order[index - 1]]:\n",
    "            # True positive rate\n",
    "            tpr = num_true_positive / num_positive\n",
    "            # False positive rate\n",
    "            fpr = num_false_positive / num_negative\n",
    "            # New point on the ROC curve\n",
    "            cur = [tpr, fpr]\n",
    "            \n",
    "            score += trapezoid_area(last, cur)\n",
    "            last = cur\n",
    "        \n",
    "        if target[order[index]] == 1:\n",
    "            num_true_positive += 1\n",
    "        else:\n",
    "            num_false_positive += 1\n",
    "    score += trapezoid_area(last, [1, 1])\n",
    "\n",
    "    return score "
   ]
  },
  {
   "cell_type": "code",
   "execution_count": 7,
   "id": "361f6637-19a5-467b-96bb-6b4ae06f04ce",
   "metadata": {},
   "outputs": [
    {
     "data": {
      "text/plain": [
       "np.float64(0.5722402597402597)"
      ]
     },
     "execution_count": 7,
     "metadata": {},
     "output_type": "execute_result"
    }
   ],
   "source": [
    "fast_roc_auc_score(target, predicted)"
   ]
  }
 ],
 "metadata": {
  "kernelspec": {
   "display_name": "Python 3 (ipykernel)",
   "language": "python",
   "name": "python3"
  },
  "language_info": {
   "codemirror_mode": {
    "name": "ipython",
    "version": 3
   },
   "file_extension": ".py",
   "mimetype": "text/x-python",
   "name": "python",
   "nbconvert_exporter": "python",
   "pygments_lexer": "ipython3",
   "version": "3.12.4"
  }
 },
 "nbformat": 4,
 "nbformat_minor": 5
}
