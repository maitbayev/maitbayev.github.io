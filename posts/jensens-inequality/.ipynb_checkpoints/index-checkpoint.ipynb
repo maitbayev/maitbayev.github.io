{
 "cells": [
  {
   "cell_type": "raw",
   "metadata": {
    "vscode": {
     "languageId": "raw"
    }
   },
   "source": [
    "---\n",
    "title: \"Geometric Intuition for Jensen's Inequality\"\n",
    "author: \"Madiyar Aitbayev\"\n",
    "date: \"2025-01-4\"\n",
    "categories: [convex function, jensen]\n",
    "image: \"images/image.jpg\"\n",
    "---"
   ]
  },
  {
   "cell_type": "markdown",
   "metadata": {},
   "source": [
    "# Geometric Intuition for Jensen's Inequality"
   ]
  },
  {
   "cell_type": "markdown",
   "metadata": {},
   "source": [
    "## Introduction\n",
    "\n",
    "Jensen's inequality is fundamental in many fields, including machine learning and statistics. For example, it is useful in the [diffusion models paper](https://maitbayev.github.io/posts/denoising-diffusion-probabilistic-models/) for understanding the variational lower bound. In this post, I will give a simple geometric intuition for Jensen's inequality.\n",
    "\n",
    "Feel free to leave feedback on my [telegram channel](https://t.me/swemanml)."
   ]
  },
  {
   "cell_type": "markdown",
   "metadata": {},
   "source": [
    "## Setup \n",
    "\n",
    "The post contains collapsed code sections that are used to produce the visualizations. They're optional, hence collapsed."
   ]
  },
  {
   "cell_type": "code",
   "execution_count": 1,
   "metadata": {},
   "outputs": [],
   "source": [
    "#| code-summary: code for fig_jensen_inequality\n",
    "#| code-fold: true\n",
    "\n",
    "import itertools\n",
    "\n",
    "import numpy as np\n",
    "import plotly.graph_objects as go\n",
    "\n",
    "\n",
    "def alpha_profiles(n: int):\n",
    "    if n == 2:\n",
    "        space = np.linspace(0.01, 0.99, 100)\n",
    "        return np.column_stack((space, 1.0 - space))\n",
    "    space = np.linspace(0.01, 0.99, 15 - max(0, (n - 3) * 5))\n",
    "    space_prod = itertools.product(*[space for _ in range(n - 1)])\n",
    "    profiles = np.array(list(space_prod))\n",
    "    profiles = profiles[np.sum(profiles, axis=1) < 1.0]\n",
    "    return np.concatenate([profiles, 1 - np.sum(profiles, axis=1).reshape(-1, 1)], axis=1)\n",
    "\n",
    "\n",
    "def fig_jensen_inequality(f, x_range: np.array, x: np.array, show_hull_point_legend: bool = True):\n",
    "    points = np.column_stack([x, f(x)])\n",
    "    n = len(points)\n",
    "    steps = []\n",
    "    hull_points = []\n",
    "    titles = []\n",
    "    for index, alphas in enumerate(alpha_profiles(n)):\n",
    "        hp = np.average(points, weights=alphas, axis=0)\n",
    "        hull_points.append(hp)\n",
    "        title = \",\".join([\"\\\\lambda_\" + f\"{i + 1}={a:.2f}\" for i, a in enumerate(alphas)])\n",
    "        title = f\"${title}$\"\n",
    "        titles.append(title)\n",
    "        step = dict(name=index, label=index, method=\"update\",\n",
    "                    args=[{\n",
    "                        \"x\": [[hp[0]], [hp[0], hp[0]]],\n",
    "                        \"y\": [[hp[1]], [f(hp[0]), hp[1]]],\n",
    "                    }, {\"title\": title}, [2, 3]])\n",
    "        steps.append(step)\n",
    "    active_index = len(steps) // 2\n",
    "    sliders = [dict(active=len(steps) // 2, steps=steps)]\n",
    "    return go.Figure(data=[\n",
    "        go.Scatter(\n",
    "            name=\"f\", x=x_range, y=f(x_range), hoverinfo=\"none\"\n",
    "        ),\n",
    "        go.Scatter(\n",
    "            name=\"Convex Hull\", x=np.append(points[:, 0], points[0][0]),\n",
    "            y=np.append(points[:, 1], points[0][1]),\n",
    "            fillcolor=\"rgba(239, 85, 59, 0.2)\", fill=\"toself\", mode=\"lines\",\n",
    "            line=dict(width=3), hoverinfo=\"none\",\n",
    "            showlegend=points.shape[0] > 2\n",
    "        ),\n",
    "        go.Scatter(\n",
    "            name=\"$(\\\\sum \\\\lambda_i x_i, \\\\sum \\\\lambda_i f(x_i))$\",\n",
    "            x=[hull_points[active_index][0]],\n",
    "            y=[hull_points[active_index][1]],\n",
    "            mode=f\"markers{'+text' if show_hull_point_legend else ''}\",\n",
    "            text=[\"$(\\\\sum \\\\lambda_i x_i, \\\\sum \\\\lambda_i f(x_i))$\"],\n",
    "            textposition=\"top center\",\n",
    "            hovertemplate=\"(%{x:.2f}, %{y:.2f})<extra></extra>\",\n",
    "            marker={\"size\": 20, \"color\": \"black\"},\n",
    "            legendrank=1001,\n",
    "            showlegend=show_hull_point_legend,\n",
    "        ),\n",
    "        go.Scatter(\n",
    "            x=[hull_points[active_index][0], hull_points[active_index][0]],\n",
    "            y=[f(hull_points[active_index][0]), hull_points[active_index][1]],\n",
    "            mode=\"lines\",\n",
    "            textposition=\"bottom center\",\n",
    "            hovertemplate=\"(%{x:.2f}, %{y:.2f})<extra></extra>\",\n",
    "            line={\"color\": \"black\", \"dash\": \"dot\", \"width\": 1},\n",
    "            showlegend=False\n",
    "        ),\n",
    "        go.Scatter(\n",
    "            name=\"$(x_i, f(x_i))$\",\n",
    "            x=points[:, 0], y=points[:, 1],\n",
    "            mode=\"markers+text\",\n",
    "            marker={\"size\": 20},\n",
    "            text=[f\"$(x_{i},f(x_{i}))$\" for i in range(1, n + 1)],\n",
    "            textposition=\"top center\",\n",
    "            hovertemplate=\"(%{x:.2f}, %{y:.2f})<extra></extra>\"\n",
    "        ),\n",
    "\n",
    "    ], layout=go.Layout(\n",
    "        title=titles[active_index],\n",
    "        xaxis=dict(fixedrange=True),\n",
    "        yaxis=dict(fixedrange=True, scaleanchor=\"x\", scaleratio=1),\n",
    "        sliders=sliders,\n",
    "        legend=dict(\n",
    "            yanchor=\"top\",\n",
    "            xanchor=\"right\",\n",
    "            x=1,\n",
    "            y=1\n",
    "        ),\n",
    "        margin=dict(l=5, r=5, t=50, b=50)\n",
    "    ))\n",
    "\n",
    "\n",
    "def sample_parabola(x):\n",
    "    return 0.15 * (x - 15) ** 2 + 15\n",
    "\n"
   ]
  },
  {
   "cell_type": "markdown",
   "metadata": {},
   "source": [
    "## Convex Function\n",
    "\n",
    "A function is a **convex function** when the line segment joining any two points on the function graph lies above or on the graph. In the simplest term, a convex function is shaped like $\\cup$ and a **concave function** is shaped like $\\cap$. If `f` is convex, then `-f` is concave.\n",
    "\n",
    "A visualization from [Wikipedia](https://en.wikipedia.org/wiki/Convex_function):\n"
   ]
  },
  {
   "cell_type": "code",
   "execution_count": 2,
   "metadata": {},
   "outputs": [
    {
     "data": {
      "text/html": [
       "<img src=\"https://upload.wikimedia.org/wikipedia/commons/c/c7/ConvexFunction.svg\" width=\"400\"/>"
      ],
      "text/plain": [
       "<IPython.core.display.Image object>"
      ]
     },
     "execution_count": 2,
     "metadata": {},
     "output_type": "execute_result"
    }
   ],
   "source": [
    "#| code-summary: display image from Wikipedia \n",
    "#| code-fold: true\n",
    "\n",
    "from IPython.display import Image\n",
    "Image(url='https://upload.wikimedia.org/wikipedia/commons/c/c7/ConvexFunction.svg', width=400)"
   ]
  },
  {
   "cell_type": "markdown",
   "metadata": {},
   "source": [
    "### Definition\n",
    "\n",
    "A function is called **convex** if the following holds:\n",
    "\n",
    "$$\n",
    "f(\\lambda x_1 + (1-\\lambda) x_2) \\le \\lambda f(x_1) + (1-\\lambda) f(x_2)\n",
    "$$\n",
    "\n",
    "and **concave** when:\n",
    "\n",
    "$$\n",
    "f(\\lambda x_1 + (1-\\lambda) x_2) \\ge \\lambda f(x_1) + (1-\\lambda) f(x_2)\n",
    "$$"
   ]
  },
  {
   "cell_type": "markdown",
   "metadata": {},
   "source": [
    "### Geometric Intuition"
   ]
  },
  {
   "cell_type": "code",
   "execution_count": 3,
   "metadata": {},
   "outputs": [
    {
     "data": {
      "text/html": [
       "<iframe\n",
       "    scrolling=\"no\"\n",
       "    width=\"100%\"\n",
       "    height=\"545px\"\n",
       "    src=\"iframe_figures/figure_3.html\"\n",
       "    frameborder=\"0\"\n",
       "    allowfullscreen\n",
       "></iframe>\n"
      ]
     },
     "metadata": {},
     "output_type": "display_data"
    }
   ],
   "source": [
    "fig = fig_jensen_inequality(\n",
    "    f=sample_parabola,\n",
    "    x_range=np.linspace(0, 30, 100),\n",
    "    x=np.array([2, 22]),\n",
    ")\n",
    "fig.show(renderer=\"iframe\")"
   ]
  },
  {
   "cell_type": "markdown",
   "metadata": {},
   "source": [
    "An interactive visualization of the convex function: $f(x)=0.15(x - 15)^2 + 15$. We will use the same parabola during this post unless stated otherwise. You can use the slider to try different values of ($\\lambda_1$, $\\lambda_2)$, where $\\lambda_2=1-\\lambda_1$. \n",
    "\n",
    "We have a line segment that joins $(x_1, f(x_1))$ and $(x_2, f(x_2))$. We can sample any point along the line segment with $(\\lambda_1 x_1 + \\lambda_2 x_2, \\lambda_1 f(x_1) + \\lambda_2 f(x_2))$. For example:\n",
    "\n",
    "- When $\\lambda_1=1$, we get the first point\n",
    "- When $\\lambda_1=0$, we get the second point\n",
    "- And when $\\lambda_1=0.5$, we get the middle point of the line segment\n",
    "- and so on...\n",
    " \n",
    "This point is visualized with a black point above. Let's name it as **$A$**.\n",
    "\n",
    "The point where the function graph intersects with the dotted line segment is described by: $(\\lambda_1 x_1 + \\lambda_2 x_2, f(\\lambda_1 x_1 + \\lambda_2 x_2))$. Let's name it as **$B$**. \n",
    "\n",
    "Then, the definition above is just asserting that $B_y \\le A_y$ and we also have $A_x = B_x$. Note that we are just showing a single line segment, but this statement should be true for all similar line segments."
   ]
  },
  {
   "cell_type": "markdown",
   "metadata": {},
   "source": [
    "## Jensen's Inequality\n",
    "\n",
    "Jensen's inequality is a generalization of the above convex function definition for more than 2 points.\n"
   ]
  },
  {
   "cell_type": "markdown",
   "metadata": {},
   "source": [
    "### Definition \n",
    "\n",
    "Assume we have a **convex function** $f$ and $x_1, x_2, \\cdots, x_n$ in $f$'s domain, and also positive weights $\\lambda_1, \\lambda_2, \\cdots, \\lambda_n$ where $\\sum_{i=1}^n \\lambda_i = 1$. Then Jensen's inequality can be stated as:\n",
    "\n",
    "$$\n",
    "f(\\sum_{i=1}^n \\lambda_i x_i) \\le \\sum_{i=1}^n \\lambda_i f(x_i) \n",
    "$$\n",
    "\n",
    "The equation is flipped for a **concave function** g: \n",
    "\n",
    "$$\n",
    "g(\\sum_{i=1}^n \\lambda_i x_i) \\ge \\sum_{i=1}^n \\lambda_i g(x_i)\n",
    "$$\n",
    "\n",
    "Note that we arrive at the same definition for convex function when $n=2$."
   ]
  },
  {
   "cell_type": "markdown",
   "metadata": {},
   "source": [
    "### Geometric Intuition\n",
    "\n",
    "A numerous proofs are already available by other posts. I encourage you to checkout the following resources:\n",
    "\n",
    "- [en.wikipedia.org/wiki/Jensen%27s_inequality#Proofs](https://en.wikipedia.org/wiki/Jensen%27s_inequality#Proofs)\n",
    "- [brilliant.org/wiki/jensens-inequality](https://brilliant.org/wiki/jensens-inequality/)\n",
    "- [artofproblemsolving.com/wiki/...](https://artofproblemsolving.com/wiki/index.php/Jensen%27s_Inequality)\n",
    "\n",
    "Here I describe a geometric intuition, which resonates more with me."
   ]
  },
  {
   "cell_type": "markdown",
   "metadata": {},
   "source": [
    "#### Triangle \n",
    "\n",
    "Let's start with a triangle, i.e., $n=3$:"
   ]
  },
  {
   "cell_type": "code",
   "execution_count": 4,
   "metadata": {},
   "outputs": [
    {
     "data": {
      "text/html": [
       "<iframe\n",
       "    scrolling=\"no\"\n",
       "    width=\"100%\"\n",
       "    height=\"545px\"\n",
       "    src=\"iframe_figures/figure_4.html\"\n",
       "    frameborder=\"0\"\n",
       "    allowfullscreen\n",
       "></iframe>\n"
      ]
     },
     "metadata": {},
     "output_type": "display_data"
    }
   ],
   "source": [
    "fig = fig_jensen_inequality(\n",
    "    f=sample_parabola,\n",
    "    x_range=np.linspace(0, 30, 100),\n",
    "    x=np.array([2, 13, 25]),\n",
    ")\n",
    "fig.show(renderer=\"iframe\")"
   ]
  },
  {
   "cell_type": "markdown",
   "metadata": {},
   "source": [
    "As before, you can use the slider to try different values of $(\\lambda_1, \\lambda_2, \\lambda_3)$ where $\\lambda_1+\\lambda_2+\\lambda_3=1$.\n",
    "\n",
    "We have a triangle that connects the points: $(x_1, f(x_1)), (x_2, f(x_2)), (x_3, f(x_3))$. \n",
    "\n",
    "In the $n=2$ case, we used $\\lambda_1$ and $\\lambda_2$ to sample a point along the line segment. \n",
    "\n",
    "In this $n=3$ case, it is similar, but we can sample any point inside or on the boundaries of the triangle with:\n",
    "\n",
    "$$\n",
    "\\left(\\lambda_1x_1+\\lambda_2x_2+\\lambda_3x_3, \\lambda_1f(x_1)+\\lambda_2f(x_2)+\\lambda_3f(x_3)\\right)\n",
    "$$\n",
    "\n",
    "For example:\n",
    "\n",
    "- When $\\lambda_i=1$ where $i \\in \\{1, 2, 3\\}$, we get the point $(x_i, f(x_i))$\n",
    "- When $\\lambda_1=\\lambda_2=\\lambda_3=\\frac{1}{3}$, we get the center of mass of the triangle\n",
    "\n",
    "The black point in the visualization describes this point. Let's name it as **A**. \n",
    "\n",
    "Note that ($\\lambda_1$, $\\lambda_2$, $\\lambda_3$) describes the [barycentric coordinate system](https://en.wikipedia.org/wiki/Barycentric_coordinate_system) w.r.t the triangle. Just in case you're already familiar with.\n",
    "\n",
    "The point where the parabola meets the dotted line segment is described by:\n",
    "\n",
    "$$\n",
    "(\\lambda_1x_1+\\lambda_2x_2+\\lambda_3x_3, f(\\lambda_1x_1+\\lambda_2x_2+\\lambda_3x_3))\n",
    "$$\n",
    "\n",
    "If we name this point as **B**, then it is not difficult to see that Jensen's inequality is the same as $B_y \\le A_y$.\n"
   ]
  },
  {
   "cell_type": "markdown",
   "metadata": {},
   "source": [
    "#### Four Points or More"
   ]
  },
  {
   "cell_type": "markdown",
   "metadata": {},
   "source": [
    "It is easy to generalize for $n>3$. I am adding it here for the sake of completeness:"
   ]
  },
  {
   "cell_type": "code",
   "execution_count": 5,
   "metadata": {},
   "outputs": [
    {
     "data": {
      "text/html": [
       "<iframe\n",
       "    scrolling=\"no\"\n",
       "    width=\"100%\"\n",
       "    height=\"545px\"\n",
       "    src=\"iframe_figures/figure_5.html\"\n",
       "    frameborder=\"0\"\n",
       "    allowfullscreen\n",
       "></iframe>\n"
      ]
     },
     "metadata": {},
     "output_type": "display_data"
    }
   ],
   "source": [
    "fig = fig_jensen_inequality(\n",
    "    f=sample_parabola,\n",
    "    x_range=np.linspace(0, 30, 100),\n",
    "    x=np.array([2, 13, 22, 25]),\n",
    ")\n",
    "fig.show(renderer=\"iframe\")"
   ]
  },
  {
   "cell_type": "markdown",
   "metadata": {},
   "source": [
    "In the general case, the point $(\\sum_{i=1}^n \\lambda_ix_i, \\sum_{i=1}^n \\lambda_if(x_i))$ describes a point inside or on the boundary of the convex hull enclosing the points: $(x_1, f(x_1)), (x_2, f(x_2)), \\cdots, (x_n, f(x_n))$. The convex hull is always above or on the graph.\n"
   ]
  },
  {
   "cell_type": "markdown",
   "metadata": {},
   "source": [
    "## Applications"
   ]
  },
  {
   "cell_type": "markdown",
   "metadata": {},
   "source": [
    "### AM–GM inequality\n",
    "\n",
    "TODO: see for now https://en.wikipedia.org/wiki/AM%E2%80%93GM_inequality"
   ]
  },
  {
   "cell_type": "markdown",
   "metadata": {},
   "source": [
    "## The End"
   ]
  },
  {
   "cell_type": "markdown",
   "metadata": {},
   "source": [
    "I hope you enjoyed this post. You can ask further questions on [my telegram channel](https://t.me/swemanml)"
   ]
  }
 ],
 "metadata": {
  "kernelspec": {
   "display_name": "Python 3 (ipykernel)",
   "language": "python",
   "name": "python3"
  },
  "language_info": {
   "codemirror_mode": {
    "name": "ipython",
    "version": 3
   },
   "file_extension": ".py",
   "mimetype": "text/x-python",
   "name": "python",
   "nbconvert_exporter": "python",
   "pygments_lexer": "ipython3",
   "version": "3.12.4"
  }
 },
 "nbformat": 4,
 "nbformat_minor": 4
}
