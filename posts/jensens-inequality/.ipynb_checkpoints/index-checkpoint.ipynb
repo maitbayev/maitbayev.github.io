{
 "cells": [
  {
   "cell_type": "raw",
   "metadata": {
    "vscode": {
     "languageId": "raw"
    }
   },
   "source": [
    "---\n",
    "title: \"WIP: Geometric Intuition for Jensen's Inequality\"\n",
    "author: \"Madiyar Aitbayev\"\n",
    "date: \"2024-12-27\"\n",
    "categories: [basics, loss, l1, l2, lasso, ridge]\n",
    "image: \"images/image.jpg\"\n",
    "---"
   ]
  },
  {
   "cell_type": "markdown",
   "metadata": {},
   "source": [
    "# WIP: Geometric Intuition for Jensen's Inequality"
   ]
  },
  {
   "cell_type": "markdown",
   "metadata": {},
   "source": [
    "## Introduction\n",
    "\n",
    "Jensen's inequality is fundamental in many fields, including machine learning and statistics. For example, it is useful in the [diffusion models paper](https://maitbayev.github.io/posts/denoising-diffusion-probabilistic-models/) for understanding the variational lower bound. In this post, I will give a simple geometric intuition for Jensen's inequality.\n",
    "\n",
    "Feel free to leave feedback on my [telegram channel](https://t.me/swemanml)."
   ]
  },
  {
   "cell_type": "markdown",
   "metadata": {},
   "source": [
    "## Setup \n",
    "\n",
    "The post contains collapsed code sections that are used to produce the visualizations. They're optional, hence collapsed."
   ]
  },
  {
   "cell_type": "code",
   "execution_count": null,
   "metadata": {},
   "outputs": [],
   "source": [
    "#| code-summary: code for fig_jensen_inequality\n",
    "#| code-fold: true\n",
    "\n",
    "import itertools\n",
    "\n",
    "import numpy as np\n",
    "import plotly.graph_objects as go\n",
    "\n",
    "\n",
    "def alpha_profiles(n: int):\n",
    "    if n == 2:\n",
    "        space = np.linspace(0.01, 0.99, 100)\n",
    "        return np.column_stack((space, 1.0 - space))\n",
    "    space = np.linspace(0.01, 0.99, 15 - max(0, (n - 3) * 5))\n",
    "    space_prod = itertools.product(*[space for _ in range(n - 1)])\n",
    "    profiles = np.array(list(space_prod))\n",
    "    profiles = profiles[np.sum(profiles, axis=1) < 1.0]\n",
    "    return np.concatenate([profiles, 1 - np.sum(profiles, axis=1).reshape(-1, 1)], axis=1)\n",
    "\n",
    "\n",
    "def fig_jensen_inequality(f, x_range: np.array, x: np.array, show_hull_point_legend: bool = True):\n",
    "    points = np.column_stack([x, f(x)])\n",
    "    n = len(points)\n",
    "    steps = []\n",
    "    hull_points = []\n",
    "    titles = []\n",
    "    for index, alphas in enumerate(alpha_profiles(n)):\n",
    "        hp = np.average(points, weights=alphas, axis=0)\n",
    "        hull_points.append(hp)\n",
    "        title = \",\".join([\"\\\\lambda_\" + f\"{i + 1}={a:.2f}\" for i, a in enumerate(alphas)])\n",
    "        title = f\"${title}$\"\n",
    "        titles.append(title)\n",
    "        step = dict(name=index, label=index, method=\"update\",\n",
    "                    args=[{\n",
    "                        \"x\": [[hp[0]], [hp[0], hp[0]]],\n",
    "                        \"y\": [[hp[1]], [f(hp[0]), hp[1]]],\n",
    "                    }, {\"title\": title}, [2, 3]])\n",
    "        steps.append(step)\n",
    "    active_index = len(steps) // 2\n",
    "    sliders = [dict(active=len(steps) // 2, steps=steps)]\n",
    "    return go.Figure(data=[\n",
    "        go.Scatter(\n",
    "            name=\"f\", x=x_range, y=f(x_range), hoverinfo=\"none\"\n",
    "        ),\n",
    "        go.Scatter(\n",
    "            name=\"Convex Hull\", x=np.append(points[:, 0], points[0][0]),\n",
    "            y=np.append(points[:, 1], points[0][1]),\n",
    "            fillcolor=\"rgba(239, 85, 59, 0.2)\", fill=\"toself\", mode=\"lines\",\n",
    "            line=dict(width=3), hoverinfo=\"none\",\n",
    "            showlegend=points.shape[0] > 2\n",
    "        ),\n",
    "        go.Scatter(\n",
    "            name=\"$(\\\\sum \\\\lambda_i x_i, \\\\sum \\\\lambda_i f(x_i))$\",\n",
    "            x=[hull_points[active_index][0]],\n",
    "            y=[hull_points[active_index][1]],\n",
    "            mode=f\"markers{'+text' if show_hull_point_legend else ''}\",\n",
    "            text=[\"$(\\\\sum \\\\lambda_i x_i, \\\\sum \\\\lambda_i f(x_i))$\"],\n",
    "            textposition=\"top center\",\n",
    "            hovertemplate=\"(%{x:.2f}, %{y:.2f})<extra></extra>\",\n",
    "            marker={\"size\": 20, \"color\": \"black\"},\n",
    "            legendrank=1001,\n",
    "            showlegend=show_hull_point_legend,\n",
    "        ),\n",
    "        go.Scatter(\n",
    "            x=[hull_points[active_index][0], hull_points[active_index][0]],\n",
    "            y=[f(hull_points[active_index][0]), hull_points[active_index][1]],\n",
    "            mode=\"lines\",\n",
    "            textposition=\"bottom center\",\n",
    "            hovertemplate=\"(%{x:.2f}, %{y:.2f})<extra></extra>\",\n",
    "            line={\"color\": \"black\", \"dash\": \"dot\", \"width\": 1},\n",
    "            showlegend=False\n",
    "        ),\n",
    "        go.Scatter(\n",
    "            name=\"$(x_i, f(x_i))$\",\n",
    "            x=points[:, 0], y=points[:, 1],\n",
    "            mode=\"markers+text\",\n",
    "            marker={\"size\": 20},\n",
    "            text=[f\"$(x_{i},f(x_{i}))$\" for i in range(1, n + 1)],\n",
    "            textposition=\"top center\",\n",
    "            hovertemplate=\"(%{x:.2f}, %{y:.2f})<extra></extra>\"\n",
    "        ),\n",
    "\n",
    "    ], layout=go.Layout(\n",
    "        title=titles[active_index],\n",
    "        xaxis=dict(fixedrange=True),\n",
    "        yaxis=dict(fixedrange=True, scaleanchor=\"x\", scaleratio=1),\n",
    "        sliders=sliders,\n",
    "        legend=dict(\n",
    "            yanchor=\"top\",\n",
    "            xanchor=\"right\",\n",
    "            x=1,\n",
    "            y=1\n",
    "        ),\n",
    "        margin=dict(l=5, r=5, t=50, b=50)\n",
    "    ))\n",
    "\n",
    "\n",
    "def sample_parabola(x):\n",
    "    return 0.15 * (x - 15) ** 2 + 15\n",
    "\n"
   ]
  },
  {
   "cell_type": "markdown",
   "metadata": {},
   "source": [
    "## Convex Function\n",
    "\n",
    "A function is a **convex function** when the line segment joining any two points on the graph of the function lies above or on the graph. In the simplest term, a convex function is shaped like a cup $\\cup$ and a **concave function** is shaped like a cap $\\cap$. If `f` is convex, then `-f` is concave.\n",
    "\n",
    "A visualization from [Wikipedia](https://en.wikipedia.org/wiki/Convex_function):\n"
   ]
  },
  {
   "cell_type": "code",
   "execution_count": 21,
   "metadata": {},
   "outputs": [
    {
     "data": {
      "text/html": [
       "<img src=\"https://upload.wikimedia.org/wikipedia/commons/c/c7/ConvexFunction.svg\" height=\"300\"/>"
      ],
      "text/plain": [
       "<IPython.core.display.Image object>"
      ]
     },
     "execution_count": 21,
     "metadata": {},
     "output_type": "execute_result"
    }
   ],
   "source": [
    "#| code-summary: display image from Wikipedia \n",
    "#| code-fold: true\n",
    "\n",
    "from IPython.display import Image\n",
    "Image(url='https://upload.wikimedia.org/wikipedia/commons/c/c7/ConvexFunction.svg', height=300)"
   ]
  },
  {
   "cell_type": "code",
   "execution_count": null,
   "metadata": {},
   "outputs": [],
   "source": []
  },
  {
   "cell_type": "markdown",
   "metadata": {},
   "source": [
    "### Definition\n",
    "\n",
    "A function is called **convex** if the following holds:\n",
    "\n",
    "$$\n",
    "f(\\lambda x_1 + (1-\\lambda) x_2) \\le \\lambda f(x_1) + (1-\\lambda) f(x_2)\n",
    "$$\n",
    "\n",
    "and **concave** when:\n",
    "\n",
    "$$\n",
    "f(\\lambda x_1 + (1-\\lambda) x_2) \\ge \\lambda f(x_1) + (1-\\lambda) f(x_2)\n",
    "$$"
   ]
  },
  {
   "cell_type": "markdown",
   "metadata": {},
   "source": [
    "This definition formally describes the above visualization from Wikipedia, but where $\\lambda=t$. "
   ]
  },
  {
   "cell_type": "markdown",
   "metadata": {},
   "source": [
    "### Geometric Intuition"
   ]
  },
  {
   "cell_type": "code",
   "execution_count": null,
   "metadata": {},
   "outputs": [],
   "source": [
    "fig_jensen_inequality(\n",
    "    f=sample_parabola,\n",
    "    x_range=np.linspace(0, 30, 100),\n",
    "    x=np.array([2, 22]),\n",
    ").show(renderer=\"iframe\")"
   ]
  },
  {
   "cell_type": "markdown",
   "metadata": {},
   "source": [
    "An interactive visualization of a convex function $f(x)=0.15(x - 15)^2 + 15$. We will use the same parabola during this post unless stated otherwise. You can use the slider to try different values of ($\\lambda_1$, $\\lambda_2)$, where $\\lambda_2=1-\\lambda_1$. \n",
    "\n",
    "We have a line segment that connects two points on the parabola: $(x_1, f(x_1))$ and $(x_2, f(x_2))$. We can sample any point along the line segment by $(\\lambda_1 x_1 + \\lambda_2 x_2, \\lambda_1 f(x_1) + \\lambda_2 f(x_2))$. When $\\lambda_1=0$, we get the second point; when $\\lambda_1=1$ we get the first point;  when $\\lambda_1=0.5$, we get the middle point of the line segment; and so on... This point is visualized with a black point above. Let's name this point as $A$.\n",
    "\n",
    "The point located at the intersection between the parabola and the dotted black line segment is described by: $(\\lambda_1 x_1 + \\lambda_2 x_2, f(\\lambda_1 x_1 + \\lambda_2 x_2))$. Let's name it as $B$. \n",
    "\n",
    "Then, the definition above is just asserting that $B_y \\le A_y$ and we also have $A_x = B_x$. Note that we are just showing a single line segment, but this statement should be true for any line segment joining two points on the graph."
   ]
  },
  {
   "cell_type": "markdown",
   "metadata": {},
   "source": [
    "## Jensen's Inequality\n",
    "\n",
    "Jensen's inequality is a generalization of the convex function definition above for more than 2 points.\n"
   ]
  },
  {
   "cell_type": "markdown",
   "metadata": {
    "jp-MarkdownHeadingCollapsed": true
   },
   "source": [
    "### Definition \n",
    "\n",
    "Assume we have a real-valued **convex function** $f$, $x_1, x_2, \\cdots, x_n$ in its domain, and positive weights $w_1, w_2, \\cdots, w_n$. Then we have:\n",
    "\n",
    "$$\n",
    "f\\left(\\frac{w_1x_1+w_2x_2+\\cdots+w_nx_n}{w_1+w_2+\\cdots+w_n}\\right) \\le \\frac{w_1f(x_1)+w_2f(x_2)+\\cdots+w_nf(x_n)}{w_1+w_2+\\cdots+w_n}\n",
    "$$\n",
    "\n",
    "The equation is flipped for a **concave function** g:\n",
    "\n",
    "$$\n",
    "g\\left(\\frac{w_1x_1+w_2x_2+\\cdots+w_nx_n}{w_1+w_2+\\cdots+w_n}\\right) \\ge \\frac{w_1g(x_1)+w_2g(x_2)+\\cdots+w_ng(x_n)}{w_1+w_2+\\cdots+w_n}\n",
    "$$\n",
    "\n",
    "Let's simplify the inequality by normalizing  $w_1, w_2, \\cdots, w_n$:\n",
    "\n",
    "$$\n",
    "\\lambda_i=\\frac{w_i}{\\sum_{k=1}^n w_k} \\text{ where } i=1, 2, \\cdots, n\n",
    "$$\n",
    "\n",
    "where it is easy to see that $\\sum_{i=1}^n \\lambda_i = 1$. Then we have:\n",
    " \n",
    "$$\n",
    "f(\\sum_{i=1}^n \\lambda_i x_i) \\le \\sum_{i=1}^n \\lambda_i f(x_i) \n",
    "$$\n",
    "\n",
    "Note that we have the same convex function definition when $n=2$."
   ]
  },
  {
   "cell_type": "markdown",
   "metadata": {},
   "source": [
    "### Geometric Intuition\n",
    "\n",
    "A numerous proofs are already given by other posts. I encourage you to checkout the following resources:\n",
    "\n",
    "- [en.wikipedia.org/wiki/Jensen%27s_inequality#Proofs](https://en.wikipedia.org/wiki/Jensen%27s_inequality#Proofs)\n",
    "- [brilliant.org/wiki/jensens-inequality](https://brilliant.org/wiki/jensens-inequality/)\n",
    "- [artofproblemsolving.com/wiki/...](https://artofproblemsolving.com/wiki/index.php/Jensen%27s_Inequality)\n",
    "- I will add more as I discover\n",
    "\n",
    "Here we describe a geometric intuition, which personally resonates more with me."
   ]
  },
  {
   "cell_type": "markdown",
   "metadata": {},
   "source": [
    "#### Triangle \n",
    "\n",
    "Let's start with $n=3$ case, i.e.:"
   ]
  },
  {
   "cell_type": "code",
   "execution_count": null,
   "metadata": {},
   "outputs": [],
   "source": [
    "fig_jensen_inequality(\n",
    "    f=sample_parabola,\n",
    "    x_range=np.linspace(0, 30, 100),\n",
    "    x=np.array([2, 13, 25]),\n",
    ").show(renderer=\"iframe\")"
   ]
  },
  {
   "cell_type": "markdown",
   "metadata": {},
   "source": [
    "A similar interactive visualization as before. You can use the slider to try different values of $(\\lambda_1, \\lambda_2, \\lambda_3)$ where $\\lambda_1+\\lambda_2+\\lambda_3=1$.\n",
    "\n",
    "We have a triangle that connect the points: $(x_1, f(x_1)), (x_2, f(x_2)), (x_3, f(x_3))$. In the $n=2$ case, we used $\\lambda_1$ and $\\lambda_2$ to sample any point along the line segment. In this case, it is very similar, but we can sample any point inside the triangle by using $\\lambda_1, \\lambda_2$ and $\\lambda_3$. When $\\lambda_1=1$, we get the first point; when $\\lambda_3=1$ we get the third point; when $\\lambda_1=1/3, \\lambda_2=1/3, \\lambda_3=1/3$, we get the center of mass of the triangle; and so on... As usual, this point is visualized with a black point above. \n",
    "\n",
    "Note that ($\\lambda_1$, $\\lambda_2$ and $\\lambda_3$) describes the [barycentric coordinate system](https://en.wikipedia.org/wiki/Barycentric_coordinate_system)."
   ]
  },
  {
   "cell_type": "markdown",
   "metadata": {},
   "source": [
    "#### Four or More Points"
   ]
  }
 ],
 "metadata": {
  "kernelspec": {
   "display_name": "Python 3 (ipykernel)",
   "language": "python",
   "name": "python3"
  },
  "language_info": {
   "codemirror_mode": {
    "name": "ipython",
    "version": 3
   },
   "file_extension": ".py",
   "mimetype": "text/x-python",
   "name": "python",
   "nbconvert_exporter": "python",
   "pygments_lexer": "ipython3",
   "version": "3.12.4"
  }
 },
 "nbformat": 4,
 "nbformat_minor": 4
}
